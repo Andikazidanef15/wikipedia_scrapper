{
 "cells": [
  {
   "cell_type": "code",
   "execution_count": 1,
   "metadata": {},
   "outputs": [],
   "source": [
    "from selenium.webdriver.common.by import By\n",
    "from selenium.webdriver.support.ui import WebDriverWait\n",
    "from selenium.webdriver.support import expected_conditions as EC\n",
    "import time"
   ]
  },
  {
   "cell_type": "code",
   "execution_count": 3,
   "metadata": {},
   "outputs": [],
   "source": [
    "from selenium import webdriver\n",
    "from selenium.webdriver.chrome.service import Service\n",
    "from selenium.webdriver.chrome.options import Options\n",
    "\n",
    "# Configure Chrome options to use the proxy server\n",
    "chrome_options = Options()\n",
    "chrome_options.add_argument(\"--proxy-server=http://localhost:9919\")\n",
    "\n",
    "# Path to your ChromeDriver\n",
    "driver = webdriver.Chrome(options=chrome_options)"
   ]
  },
  {
   "cell_type": "code",
   "execution_count": 5,
   "metadata": {},
   "outputs": [],
   "source": [
    "# phrase search\n",
    "def get_search_information(search_text:str):\n",
    "    # Replace space with + sign\n",
    "    search_text = search_text.replace(' ', '+')\n",
    "    \n",
    "    # Get to the link with limit search set to 500\n",
    "    driver.get(f'https://en.wikipedia.org/w/index.php?title=Special:Search&limit=500&offset=0&ns0=1&search={search_text}')\n",
    "\n",
    "    # Get page list\n",
    "    page_list = driver.find_elements(by = By.XPATH, value = '//*[@id=\"mw-content-text\"]/div[2]/div[4]/ul/li/div/div[2]/div[1]/a')\n",
    "\n",
    "    # Get title and link from page list\n",
    "    title_list = [page.get_attribute('title') for page in page_list]\n",
    "    link_list = [page.get_attribute('href') for page in page_list]\n",
    "\n",
    "    # Get content\n",
    "    content_list = driver.find_elements(by = By.XPATH, value = '//*[@id=\"mw-content-text\"]/div[2]/div[4]/ul/li/div/div[2]/div[2]')\n",
    "    content_list = [content.get_attribute('innerText') for content in content_list]\n",
    "\n",
    "    # Get created at date\n",
    "    created_at = driver.find_elements(by = By.XPATH, value = '//*[@id=\"mw-content-text\"]/div[2]/div[4]/ul/li/div/div[2]/div[3]')\n",
    "    created_at = [text.get_attribute('innerText').split(' - ')[1] for text in created_at]\n",
    "\n",
    "    # Create metadata\n",
    "    metadata = [\n",
    "        {\n",
    "            'title':title_list[i],\n",
    "            'link':link_list[i],\n",
    "            'content':content_list[i],\n",
    "            'created_at':created_at[i]\n",
    "        }\n",
    "        for i in range(len(page_list))\n",
    "    ]\n",
    "\n",
    "    return metadata"
   ]
  },
  {
   "cell_type": "code",
   "execution_count": 6,
   "metadata": {},
   "outputs": [],
   "source": [
    "metadata = get_search_information('Indonesia Raya')"
   ]
  },
  {
   "cell_type": "code",
   "execution_count": 8,
   "metadata": {},
   "outputs": [],
   "source": [
    "def unique_elements(list1, list2):\n",
    "    # Combine both lists\n",
    "    combined_list = list1 + list2\n",
    "    \n",
    "    # Use set to find unique elements\n",
    "    unique_list = list(set(combined_list))\n",
    "    \n",
    "    return unique_list"
   ]
  },
  {
   "cell_type": "code",
   "execution_count": 10,
   "metadata": {},
   "outputs": [],
   "source": [
    "def get_page_information(link_list, result_list:list=[], visited_link_list:list=[]):\n",
    "    try:\n",
    "        for link in link_list:\n",
    "            # Check if link already in the visited link list\n",
    "            if link in visited_link_list:\n",
    "                print(f'Skipping {link} as this link is already scrapped')\n",
    "                continue\n",
    "            else:\n",
    "                visited_link_list.append(link)\n",
    "\n",
    "            # Go to the wikipedia\n",
    "            print(f'Scraping {link}')\n",
    "            time.sleep(2)\n",
    "            driver.get(link)\n",
    "\n",
    "            # Get title\n",
    "            # //*[@id=\"firstHeading\"]/i\n",
    "            title = driver.find_element(by = By.XPATH, value = '//*[@id=\"firstHeading\"]').get_attribute(\"innerText\")\n",
    "\n",
    "            # Get content\n",
    "            content = driver.find_element(by = By.XPATH, value = '//*[@id=\"mw-content-text\"]/div[1]').text\n",
    "\n",
    "            # Click View History\n",
    "            try:\n",
    "                driver.find_element(by = By.XPATH, value = '//*[@id=\"ca-history\"]/a').click()\n",
    "\n",
    "                # Sort by oldest update\n",
    "                try:\n",
    "                    driver.find_element(by = By.XPATH, value = '//*[@id=\"mw-content-text\"]/div[3]/a[1]').click()\n",
    "\n",
    "                    # Get created at information\n",
    "                    created_at = driver.find_element(by = By.XPATH, value = '//*[@id=\"pagehistory\"]/ul[1]/li/a').text\n",
    "                except:\n",
    "                    # Get created_date from the last record\n",
    "                    created_at = driver.find_elements(by = By.XPATH, value = '//*[@id=\"pagehistory\"]/ul/li/a')[-1]\n",
    "\n",
    "                # Go back to the page\n",
    "                driver.find_element(by = By.XPATH, value = '//*[@id=\"ca-nstab-main\"]/a').click()\n",
    "            except:\n",
    "                created_at = ''\n",
    "\n",
    "            # Get categories\n",
    "            cat_list = driver.find_elements(by = By.XPATH, value = '//*[@id=\"mw-normal-catlinks\"]/ul/li/a')\n",
    "            categories = ''\n",
    "            for cat in cat_list:\n",
    "                categories += cat.text + ', '\n",
    "\n",
    "            # Get reference links\n",
    "            reference_link_list_object = driver.find_elements(by = By.XPATH, value = '//*[@id=\"mw-content-text\"]/div[1]/div/ul/li/a')\n",
    "            reference_link_list = [link.get_attribute('href') for link in reference_link_list_object]\n",
    "\n",
    "            # Store the result in dictionary\n",
    "            scrape_result = {\n",
    "                'title': title,\n",
    "                'content': content,\n",
    "                'categories': categories,\n",
    "                'see_also': reference_link_list,\n",
    "                'created_at': created_at,\n",
    "            }\n",
    "\n",
    "            result_list.append(scrape_result)\n",
    "\n",
    "            # Loop\n",
    "            ref_link_result = get_page_information(reference_link_list, result_list, visited_link_list)\n",
    "            result_list.extend(ref_link_result)\n",
    "\n",
    "        return result_list\n",
    "\n",
    "    except KeyboardInterrupt:\n",
    "        return result_list"
   ]
  },
  {
   "cell_type": "code",
   "execution_count": 11,
   "metadata": {},
   "outputs": [
    {
     "name": "stdout",
     "output_type": "stream",
     "text": [
      "Scraping https://en.wikipedia.org/wiki/Proxy_server\n",
      "Scraping https://en.wikipedia.org/wiki/Application_firewall\n",
      "Scraping https://en.wikipedia.org/wiki/ModSecurity\n",
      "Scraping https://en.wikipedia.org/wiki/Captive_portal\n",
      "Scraping https://en.wikipedia.org/wiki/Darknet\n",
      "Scraping https://en.wikipedia.org/wiki/Crypto-anarchism\n",
      "Scraping https://en.wikipedia.org/wiki/Cryptocurrency\n",
      "Scraping https://en.wikipedia.org/wiki/Darknet_market\n",
      "Scraping https://en.wikipedia.org/wiki/Dark_web\n"
     ]
    }
   ],
   "source": [
    "result_list = get_page_information(['https://en.wikipedia.org/wiki/Proxy_server'])"
   ]
  }
 ],
 "metadata": {
  "kernelspec": {
   "display_name": "wiki_scrapper",
   "language": "python",
   "name": "python3"
  },
  "language_info": {
   "codemirror_mode": {
    "name": "ipython",
    "version": 3
   },
   "file_extension": ".py",
   "mimetype": "text/x-python",
   "name": "python",
   "nbconvert_exporter": "python",
   "pygments_lexer": "ipython3",
   "version": "3.8.19"
  }
 },
 "nbformat": 4,
 "nbformat_minor": 2
}
